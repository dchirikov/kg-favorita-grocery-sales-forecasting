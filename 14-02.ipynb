{
 "cells": [
  {
   "cell_type": "code",
   "execution_count": 170,
   "metadata": {},
   "outputs": [
    {
     "name": "stdout",
     "output_type": "stream",
     "text": [
      "The autoreload extension is already loaded. To reload it, use:\n",
      "  %reload_ext autoreload\n"
     ]
    }
   ],
   "source": [
    "import pandas as pd\n",
    "import numpy as np\n",
    "import pickle\n",
    "import gc\n",
    "import hyperdash as hd\n",
    "from sklearn.preprocessing import LabelBinarizer\n",
    "import matplotlib.pyplot as plt\n",
    "\n",
    "%load_ext autoreload\n",
    "%matplotlib inline"
   ]
  },
  {
   "cell_type": "code",
   "execution_count": null,
   "metadata": {
    "collapsed": true
   },
   "outputs": [],
   "source": [
    "#'store_nbr', 'n_city', 'n_state', 'n_type', 'cluster', 'item_nbr', 'n_family', 'class', 'perishable'"
   ]
  },
  {
   "cell_type": "code",
   "execution_count": 2,
   "metadata": {
    "collapsed": true
   },
   "outputs": [],
   "source": [
    "unit_mean, unit_std = pd.read_csv('data/mean_std.csv', index_col=0).T[0]"
   ]
  },
  {
   "cell_type": "code",
   "execution_count": 3,
   "metadata": {
    "collapsed": true
   },
   "outputs": [],
   "source": [
    "df_stores = pd.read_csv(\n",
    "    'data/num_stores.csv.gz',\n",
    "     dtype={\n",
    "         'store_nbr': np.uint8,\n",
    "         'n_city': np.uint8,\n",
    "         'n_state': np.uint8,\n",
    "         'n_type': np.uint8,\n",
    "         'cluster': np.uint8\n",
    "     }\n",
    "\n",
    ")\n",
    "df_items = pd.read_csv(\n",
    "    'data/num_items.csv.gz',\n",
    "    dtype={\n",
    "        'item_nbr': np.int32,\n",
    "        'n_family': np.uint8,\n",
    "        'class': np.int16,\n",
    "        'perishable': np.int8,\n",
    "    }\n",
    ")\n",
    "for stores_col in ['n_city', 'n_state', 'n_type', 'cluster']:\n",
    "    df_stores[stores_col] = df_stores[stores_col] - df_stores[stores_col].min()\n",
    "    \n",
    "for items_col in ['n_family', 'class', 'perishable']:\n",
    "    df_items[items_col] = df_items[items_col] - df_items[items_col].min()"
   ]
  },
  {
   "cell_type": "code",
   "execution_count": 4,
   "metadata": {},
   "outputs": [
    {
     "name": "stdout",
     "output_type": "stream",
     "text": [
      "CPU times: user 5min 50s, sys: 14.1 s, total: 6min 4s\n",
      "Wall time: 5min 25s\n"
     ]
    }
   ],
   "source": [
    "%%time\n",
    "df = pd.read_csv(\n",
    "    'data/ts.csv.gz',\n",
    "    parse_dates=[0],\n",
    "    #nrows=1000000,\n",
    "    dtype={\n",
    "        'item_nbr': np.int32,\n",
    "        'store_nbr': np.int8,\n",
    "        'unit_sales': np.float32,\n",
    "        'onpromotion': np.int8,\n",
    "        'holiday': np.int8,\n",
    "        'weekend': np.int8,\n",
    "        'waged_day': np.int8,\n",
    "        'dow_0': np.int8,\n",
    "        'dow_1': np.int8,\n",
    "        'dow_2': np.int8,\n",
    "        'dow_3': np.int8,\n",
    "        'dow_4': np.int8,\n",
    "        'dow_5': np.int8,\n",
    "        'dow_6': np.int8,\n",
    "    }\n",
    ")\n",
    "df.head()"
   ]
  },
  {
   "cell_type": "code",
   "execution_count": 211,
   "metadata": {},
   "outputs": [
    {
     "name": "stderr",
     "output_type": "stream",
     "text": [
      "/home/dmitry/miniconda3/envs/tf_intel/lib/python3.5/site-packages/ipykernel/__main__.py:9: RuntimeWarning: invalid value encountered in true_divide\n"
     ]
    },
    {
     "name": "stdout",
     "output_type": "stream",
     "text": [
      "CPU times: user 58.6 s, sys: 26.2 s, total: 1min 24s\n",
      "Wall time: 37.2 s\n"
     ]
    }
   ],
   "source": [
    "%%time\n",
    "sales_min = df['unit_sales_scaled'].min()\n",
    "sales_max = df['unit_sales_scaled'].max()\n",
    "nbins = 100\n",
    "bins = np.arange(sales_min, sales_max, (sales_max - sales_min)/nbins)\n",
    "df['unit_sales_scaled_class'] = np.digitize(df['unit_sales_scaled'], bins)\n",
    "\n",
    "bins = np.arange(sales_min, sales_max+step, step)\n",
    "bin_hist = np.histogram(df['unit_sales_scaled'], bins)\n",
    "bin_hist = bin_hist[0][bin_hist[0] != 0]\n",
    "bin_weights = np.sqrt(bin_hist) / bin_hist\n",
    "\n",
    "oh_enc = LabelBinarizer()\n",
    "oh_enc.fit(df['unit_sales_scaled_class'])"
   ]
  },
  {
   "cell_type": "code",
   "execution_count": 6,
   "metadata": {},
   "outputs": [
    {
     "data": {
      "text/html": [
       "<div>\n",
       "<style>\n",
       "    .dataframe thead tr:only-child th {\n",
       "        text-align: right;\n",
       "    }\n",
       "\n",
       "    .dataframe thead th {\n",
       "        text-align: left;\n",
       "    }\n",
       "\n",
       "    .dataframe tbody tr th {\n",
       "        vertical-align: top;\n",
       "    }\n",
       "</style>\n",
       "<table border=\"1\" class=\"dataframe\">\n",
       "  <thead>\n",
       "    <tr style=\"text-align: right;\">\n",
       "      <th></th>\n",
       "      <th>date</th>\n",
       "      <th>store_nbr</th>\n",
       "      <th>item_nbr</th>\n",
       "      <th>unit_sales_scaled</th>\n",
       "      <th>onpromotion</th>\n",
       "      <th>holiday</th>\n",
       "      <th>weekend</th>\n",
       "      <th>waged_day</th>\n",
       "      <th>dow_0</th>\n",
       "      <th>dow_1</th>\n",
       "      <th>dow_2</th>\n",
       "      <th>dow_3</th>\n",
       "      <th>dow_4</th>\n",
       "      <th>dow_5</th>\n",
       "      <th>dow_6</th>\n",
       "      <th>unit_sales_scaled_class</th>\n",
       "    </tr>\n",
       "  </thead>\n",
       "  <tbody>\n",
       "    <tr>\n",
       "      <th>0</th>\n",
       "      <td>2015-06-01</td>\n",
       "      <td>1</td>\n",
       "      <td>96995</td>\n",
       "      <td>-0.716897</td>\n",
       "      <td>0</td>\n",
       "      <td>0</td>\n",
       "      <td>0</td>\n",
       "      <td>0</td>\n",
       "      <td>1</td>\n",
       "      <td>0</td>\n",
       "      <td>0</td>\n",
       "      <td>0</td>\n",
       "      <td>0</td>\n",
       "      <td>0</td>\n",
       "      <td>0</td>\n",
       "      <td>1</td>\n",
       "    </tr>\n",
       "    <tr>\n",
       "      <th>1</th>\n",
       "      <td>2015-06-02</td>\n",
       "      <td>1</td>\n",
       "      <td>96995</td>\n",
       "      <td>-0.716897</td>\n",
       "      <td>0</td>\n",
       "      <td>0</td>\n",
       "      <td>0</td>\n",
       "      <td>0</td>\n",
       "      <td>0</td>\n",
       "      <td>1</td>\n",
       "      <td>0</td>\n",
       "      <td>0</td>\n",
       "      <td>0</td>\n",
       "      <td>0</td>\n",
       "      <td>0</td>\n",
       "      <td>1</td>\n",
       "    </tr>\n",
       "    <tr>\n",
       "      <th>2</th>\n",
       "      <td>2015-06-03</td>\n",
       "      <td>1</td>\n",
       "      <td>96995</td>\n",
       "      <td>-0.716897</td>\n",
       "      <td>0</td>\n",
       "      <td>0</td>\n",
       "      <td>0</td>\n",
       "      <td>0</td>\n",
       "      <td>0</td>\n",
       "      <td>0</td>\n",
       "      <td>1</td>\n",
       "      <td>0</td>\n",
       "      <td>0</td>\n",
       "      <td>0</td>\n",
       "      <td>0</td>\n",
       "      <td>1</td>\n",
       "    </tr>\n",
       "    <tr>\n",
       "      <th>3</th>\n",
       "      <td>2015-06-04</td>\n",
       "      <td>1</td>\n",
       "      <td>96995</td>\n",
       "      <td>-0.716897</td>\n",
       "      <td>0</td>\n",
       "      <td>0</td>\n",
       "      <td>0</td>\n",
       "      <td>0</td>\n",
       "      <td>0</td>\n",
       "      <td>0</td>\n",
       "      <td>0</td>\n",
       "      <td>1</td>\n",
       "      <td>0</td>\n",
       "      <td>0</td>\n",
       "      <td>0</td>\n",
       "      <td>1</td>\n",
       "    </tr>\n",
       "    <tr>\n",
       "      <th>4</th>\n",
       "      <td>2015-06-05</td>\n",
       "      <td>1</td>\n",
       "      <td>96995</td>\n",
       "      <td>-0.716897</td>\n",
       "      <td>0</td>\n",
       "      <td>0</td>\n",
       "      <td>0</td>\n",
       "      <td>0</td>\n",
       "      <td>0</td>\n",
       "      <td>0</td>\n",
       "      <td>0</td>\n",
       "      <td>0</td>\n",
       "      <td>1</td>\n",
       "      <td>0</td>\n",
       "      <td>0</td>\n",
       "      <td>1</td>\n",
       "    </tr>\n",
       "  </tbody>\n",
       "</table>\n",
       "</div>"
      ],
      "text/plain": [
       "        date  store_nbr  item_nbr  unit_sales_scaled  onpromotion  holiday  \\\n",
       "0 2015-06-01          1     96995          -0.716897            0        0   \n",
       "1 2015-06-02          1     96995          -0.716897            0        0   \n",
       "2 2015-06-03          1     96995          -0.716897            0        0   \n",
       "3 2015-06-04          1     96995          -0.716897            0        0   \n",
       "4 2015-06-05          1     96995          -0.716897            0        0   \n",
       "\n",
       "   weekend  waged_day  dow_0  dow_1  dow_2  dow_3  dow_4  dow_5  dow_6  \\\n",
       "0        0          0      1      0      0      0      0      0      0   \n",
       "1        0          0      0      1      0      0      0      0      0   \n",
       "2        0          0      0      0      1      0      0      0      0   \n",
       "3        0          0      0      0      0      1      0      0      0   \n",
       "4        0          0      0      0      0      0      1      0      0   \n",
       "\n",
       "   unit_sales_scaled_class  \n",
       "0                        1  \n",
       "1                        1  \n",
       "2                        1  \n",
       "3                        1  \n",
       "4                        1  "
      ]
     },
     "execution_count": 6,
     "metadata": {},
     "output_type": "execute_result"
    }
   ],
   "source": [
    "df.head()"
   ]
  },
  {
   "cell_type": "code",
   "execution_count": 7,
   "metadata": {},
   "outputs": [
    {
     "name": "stderr",
     "output_type": "stream",
     "text": [
      "/home/dmitry/miniconda3/envs/tf_intel/lib/python3.5/site-packages/pandas/core/reshape/merge.py:551: UserWarning: merging between different levels can give an unintended result (2 levels on the left, 1 on the right)\n",
      "  warnings.warn(msg, UserWarning)\n"
     ]
    },
    {
     "name": "stdout",
     "output_type": "stream",
     "text": [
      "CPU times: user 15min 35s, sys: 3min 42s, total: 19min 17s\n",
      "Wall time: 14min 39s\n"
     ]
    }
   ],
   "source": [
    "%%time\n",
    "#ts_columns = df.columns[3:]\n",
    "ts_columns = [\n",
    "    'unit_sales_scaled', 'unit_sales_scaled_class',\n",
    "    'onpromotion','holiday', 'weekend', 'waged_day',\n",
    "    'dow_0', 'dow_1', 'dow_2', 'dow_3', 'dow_4', 'dow_5', 'dow_6'\n",
    "]\n",
    "\n",
    "ts_columns_wo_class = [\n",
    "    'unit_sales_scaled',\n",
    "    'onpromotion','holiday', 'weekend', 'waged_day',\n",
    "    'dow_0', 'dow_1', 'dow_2', 'dow_3', 'dow_4', 'dow_5', 'dow_6'\n",
    "]\n",
    "\n",
    "attr_cols = [\n",
    "    'store_nbr', 'n_city', 'n_state', 'n_type', 'cluster',\n",
    "    'item_nbr', 'n_family', 'class',\n",
    "    #'perishable'\n",
    "]\n",
    "\n",
    "df_pivot = df.pivot_table(\n",
    "    index=['store_nbr', 'item_nbr'],\n",
    "    columns=['date'],\n",
    "    values=ts_columns\n",
    ").reset_index()\n",
    "\n",
    "df_pivot = df_pivot.merge(df_items, on='item_nbr')\n",
    "df_pivot['store_nbr'] = df_pivot[('store_nbr', '')]\n",
    "df_pivot = df_pivot.merge(df_stores, on='store_nbr')"
   ]
  },
  {
   "cell_type": "code",
   "execution_count": 8,
   "metadata": {},
   "outputs": [
    {
     "name": "stdout",
     "output_type": "stream",
     "text": [
      "<class 'pandas.core.frame.DataFrame'>\n",
      "Int64Index: 210654 entries, 0 to 210653\n",
      "Columns: 10710 entries, item_nbr to cluster\n",
      "dtypes: float64(823), int16(1), int64(827), int8(9054), uint8(5)\n",
      "memory usage: 4.4 GB\n"
     ]
    }
   ],
   "source": [
    "df_pivot.info()"
   ]
  },
  {
   "cell_type": "code",
   "execution_count": 115,
   "metadata": {},
   "outputs": [
    {
     "data": {
      "text/html": [
       "<div>\n",
       "<style>\n",
       "    .dataframe thead tr:only-child th {\n",
       "        text-align: right;\n",
       "    }\n",
       "\n",
       "    .dataframe thead th {\n",
       "        text-align: left;\n",
       "    }\n",
       "\n",
       "    .dataframe tbody tr th {\n",
       "        vertical-align: top;\n",
       "    }\n",
       "</style>\n",
       "<table border=\"1\" class=\"dataframe\">\n",
       "  <thead>\n",
       "    <tr style=\"text-align: right;\">\n",
       "      <th></th>\n",
       "      <th>(unit_sales_scaled_class, 2017-08-16 00:00:00)</th>\n",
       "      <th>(unit_sales_scaled_class, 2017-08-17 00:00:00)</th>\n",
       "      <th>(unit_sales_scaled_class, 2017-08-18 00:00:00)</th>\n",
       "      <th>(unit_sales_scaled_class, 2017-08-19 00:00:00)</th>\n",
       "      <th>(unit_sales_scaled_class, 2017-08-20 00:00:00)</th>\n",
       "    </tr>\n",
       "  </thead>\n",
       "  <tbody>\n",
       "    <tr>\n",
       "      <th>0</th>\n",
       "      <td>1</td>\n",
       "      <td>1</td>\n",
       "      <td>1</td>\n",
       "      <td>1</td>\n",
       "      <td>1</td>\n",
       "    </tr>\n",
       "    <tr>\n",
       "      <th>1</th>\n",
       "      <td>1</td>\n",
       "      <td>1</td>\n",
       "      <td>1</td>\n",
       "      <td>1</td>\n",
       "      <td>1</td>\n",
       "    </tr>\n",
       "    <tr>\n",
       "      <th>2</th>\n",
       "      <td>1</td>\n",
       "      <td>1</td>\n",
       "      <td>1</td>\n",
       "      <td>1</td>\n",
       "      <td>1</td>\n",
       "    </tr>\n",
       "    <tr>\n",
       "      <th>3</th>\n",
       "      <td>1</td>\n",
       "      <td>1</td>\n",
       "      <td>1</td>\n",
       "      <td>1</td>\n",
       "      <td>1</td>\n",
       "    </tr>\n",
       "    <tr>\n",
       "      <th>4</th>\n",
       "      <td>1</td>\n",
       "      <td>1</td>\n",
       "      <td>1</td>\n",
       "      <td>1</td>\n",
       "      <td>1</td>\n",
       "    </tr>\n",
       "  </tbody>\n",
       "</table>\n",
       "</div>"
      ],
      "text/plain": [
       "   (unit_sales_scaled_class, 2017-08-16 00:00:00)  \\\n",
       "0                                               1   \n",
       "1                                               1   \n",
       "2                                               1   \n",
       "3                                               1   \n",
       "4                                               1   \n",
       "\n",
       "   (unit_sales_scaled_class, 2017-08-17 00:00:00)  \\\n",
       "0                                               1   \n",
       "1                                               1   \n",
       "2                                               1   \n",
       "3                                               1   \n",
       "4                                               1   \n",
       "\n",
       "   (unit_sales_scaled_class, 2017-08-18 00:00:00)  \\\n",
       "0                                               1   \n",
       "1                                               1   \n",
       "2                                               1   \n",
       "3                                               1   \n",
       "4                                               1   \n",
       "\n",
       "   (unit_sales_scaled_class, 2017-08-19 00:00:00)  \\\n",
       "0                                               1   \n",
       "1                                               1   \n",
       "2                                               1   \n",
       "3                                               1   \n",
       "4                                               1   \n",
       "\n",
       "   (unit_sales_scaled_class, 2017-08-20 00:00:00)  \n",
       "0                                               1  \n",
       "1                                               1  \n",
       "2                                               1  \n",
       "3                                               1  \n",
       "4                                               1  "
      ]
     },
     "execution_count": 115,
     "metadata": {},
     "output_type": "execute_result"
    }
   ],
   "source": [
    "def get_date_cols(date, history=20, predict_days=16, ts_columns=ts_columns_wo_class, skip=0):\n",
    "                  #date, days=1, attr_cols=attr_columns_wo_means, ts_cols=ts_columns, attr=True):\n",
    "    \n",
    "    if type(date) != pd.Timestamp:\n",
    "        date = pd.to_datetime(date)\n",
    "        \n",
    "    X_start_date = date - pd.Timedelta('{} days'.format(history-1))\n",
    "    #X_end_date = date\n",
    "    y_start_date = date + pd.Timedelta('{} days'.format(skip+1))\n",
    "    #y_end_date = date + pd.Timedelta('{} days'.format(predict_days))\n",
    "\n",
    "    X_cols, y_cols_class, y_cols_values, y_cols_day_attr  = [], [], [], []\n",
    "    \n",
    "    for d in pd.date_range(X_start_date, periods=history, freq='D'):\n",
    "        for elem in ts_columns:\n",
    "            X_cols.append((elem, d))\n",
    "            \n",
    "    for d in pd.date_range(y_start_date, periods=predict_days, freq='D'):\n",
    "        y_cols_class.append(('unit_sales_scaled_class', d))\n",
    "        y_cols_values.append(('unit_sales_scaled', d))\n",
    "        for elem in ts_columns[1:]:\n",
    "            y_cols_day_attr.append((elem, d))\n",
    "            \n",
    "    return X_cols, y_cols_class, y_cols_values, y_cols_day_attr\n",
    "\n",
    "\n",
    "\n",
    "X_cols, y_cols_class, y_cols_values, y_cols_day_attr = get_date_cols('2017-08-15', predict_days=5)\n",
    "    \n",
    "df_pivot.head().loc[:, y_cols_class]"
   ]
  },
  {
   "cell_type": "code",
   "execution_count": 123,
   "metadata": {},
   "outputs": [
    {
     "name": "stdout",
     "output_type": "stream",
     "text": [
      "DatetimeIndex(['2017-07-01', '2017-07-08', '2017-07-15'], dtype='datetime64[ns]', freq='7D')\n",
      "(90, 12) (5, 11) (5, 97) ()\n"
     ]
    }
   ],
   "source": [
    "def get_random_train_test(df_pivot, oh_enc,\n",
    "        date, window=21, freq=7, size=2000, history=1, predict_days=16, epochs=2, \n",
    "        shuffle_dates=True, shuffle_indexes=True, attr_cols=attr_cols, ts_columns=ts_columns_wo_class, skip=0):\n",
    "    \n",
    "    \n",
    "    window = freq * (window//freq)\n",
    "    num_items = df_pivot.shape[0]\n",
    "    \n",
    "    date = pd.to_datetime(date)\n",
    "    start_window =  date - pd.Timedelta('{} days'.format(window))\n",
    "    end_date = date\n",
    "    \n",
    "    dates = pd.date_range(start=start_window, end=end_date)\n",
    "    dates = dates[::freq]\n",
    "    \n",
    "    print(dates)\n",
    "    \n",
    "    patches = []\n",
    "    #end_X_date = end_date - pd.Timedelta('{} days'.format(label_dates))\n",
    "    if shuffle_dates and shuffle_indexes:\n",
    "        permutated_dates = np.random.permutation(dates)\n",
    "        permutated_indx = np.random.permutation(num_items)   \n",
    "        for epoch in range(epochs):\n",
    "            for i in range(num_items//size+1):\n",
    "                s = size * i\n",
    "                e = size * (i+1)\n",
    "                indexes = permutated_indx[s:e]\n",
    "\n",
    "                for date in permutated_dates:\n",
    "                    patches.append([indexes, date])\n",
    "\n",
    "        patches = np.random.permutation(patches)\n",
    "        \n",
    "    elif not shuffle_dates and shuffle_indexes:\n",
    "        permutated_indx = np.random.permutation(num_items)\n",
    "        for date in dates:\n",
    "            for epoch in range(epochs):\n",
    "                for i in range(num_items//size+1):\n",
    "                    s = size * i\n",
    "                    e = size * (i+1)\n",
    "                    indexes = permutated_indx[s:e]\n",
    "                    patches.append([indexes, date])\n",
    "\n",
    "    for indexes, date in patches:\n",
    "        df_pivot_slice = df_pivot.iloc[indexes]\n",
    "        X_cols, y_cols_class, _y_cols, y_day_attr_cols = get_date_cols(\n",
    "            date, history=history, predict_days=predict_days, ts_columns=ts_columns, skip=skip\n",
    "        )\n",
    "\n",
    "        X = np.array(\n",
    "            df_pivot_slice.loc[:, X_cols]\n",
    "        ).reshape([-1, history, len(ts_columns)])\n",
    "\n",
    "        y_day_attr = np.array(\n",
    "            df_pivot_slice.loc[:, y_day_attr_cols]\n",
    "        ).reshape([-1, predict_days, len(ts_columns)-1])\n",
    "        \n",
    "        \n",
    "        y = np.array(df_pivot_slice.loc[:, y_cols_class])\n",
    "        y_dim1, y_dim2 = y.shape\n",
    "        y = np.reshape(y, -1)\n",
    "\n",
    "        y = oh_enc.transform(y)\n",
    "        y = np.reshape(y, [y_dim1, y_dim2, -1])\n",
    "\n",
    "        features = [X, y_day_attr, y]\n",
    "        for feature in attr_cols:\n",
    "            features.append(\n",
    "                np.array(df_pivot_slice.loc[:, feature])\n",
    "            )\n",
    "        for i in range(len(indexes)):\n",
    "            yield tuple([elem[i] for elem in features])\n",
    "\n",
    "tmp = get_random_train_test(df_pivot, oh_enc, '2017-07-15', window=20, history=90, predict_days=5)\n",
    "tmp1 = next(tmp)\n",
    "print(tmp1[0].shape, tmp1[1].shape, tmp1[2].shape, tmp1[3].shape)"
   ]
  },
  {
   "cell_type": "code",
   "execution_count": 86,
   "metadata": {},
   "outputs": [
    {
     "name": "stdout",
     "output_type": "stream",
     "text": [
      "[31 25 26  1 21]\n"
     ]
    },
    {
     "data": {
      "text/plain": [
       "array([[ 2.2818955 ,  1.68213694,  1.7820967 , -0.71689729,  1.2822979 ],\n",
       "       [ 2.2818955 ,  1.68213694,  1.7820967 , -0.71689729,  1.2822979 ]])"
      ]
     },
     "execution_count": 86,
     "metadata": {},
     "output_type": "execute_result"
    }
   ],
   "source": [
    "print(oh_enc.inverse_transform( tmp1[2]))\n",
    "a2 = np.array([tmp1[2], tmp1[2]])\n",
    "\n",
    "def from_oh_to_values(df, oh_enc, sales_max, sales_min, nbins):\n",
    "    d1, d2, d3 = df.shape\n",
    "\n",
    "    values = ((\n",
    "        oh_enc.inverse_transform(\n",
    "            np.reshape(df, [d1*d2, d3])\n",
    "        ) - 1)\n",
    "    )*(sales_max - sales_min)/nbins + sales_min\n",
    "\n",
    "    return np.reshape(values, [d1, d2])\n",
    "\n",
    "from_oh_to_values(a2, oh_enc, sales_max, sales_min, nbins)"
   ]
  },
  {
   "cell_type": "code",
   "execution_count": 122,
   "metadata": {},
   "outputs": [
    {
     "name": "stdout",
     "output_type": "stream",
     "text": [
      "(210654, 90, 12) (210654, 5, 11) (210654, 5, 97) (210654, 5)\n"
     ]
    }
   ],
   "source": [
    "def get_validation(df_pivot, \n",
    "        date, history=1, predict_days=16, attr_cols=attr_cols, ts_columns=ts_columns_wo_class, skip=0):\n",
    "    \n",
    "    X_cols, y_cols_class, y_cols, y_day_attr_cols = get_date_cols(\n",
    "        date, history=history, predict_days=predict_days, ts_columns=ts_columns, skip=skip\n",
    "    )\n",
    "\n",
    "    X = np.array(\n",
    "        df_pivot.loc[:, X_cols]\n",
    "    ).reshape([-1, history, len(ts_columns)])\n",
    "    \n",
    "    y_day_attr = np.array(\n",
    "        df_pivot.loc[:, y_day_attr_cols]\n",
    "    ).reshape([-1, predict_days, len(ts_columns)-1])\n",
    "\n",
    "    y = np.array(df_pivot.loc[:, y_cols_class])\n",
    "    \n",
    "    y_dim1, y_dim2 = y.shape\n",
    "    y = np.reshape(y, -1)\n",
    "\n",
    "    y = oh_enc.transform(y)\n",
    "    y = np.reshape(y, [y_dim1, y_dim2, -1])\n",
    "        \n",
    "    y_val = np.array(df_pivot.loc[:, y_cols])\n",
    "    \n",
    "    features = [X, y_day_attr, y, y_val]\n",
    "    for feature in attr_cols:\n",
    "        features.append(\n",
    "            np.array(df_pivot.loc[:, feature])\n",
    "        )\n",
    "\n",
    "    return features\n",
    "\n",
    "tmp = get_validation(df_pivot, '2017-07-15', history=90, predict_days=5)\n",
    "print(tmp[0].shape, tmp[1].shape, tmp[2].shape, tmp[3].shape)"
   ]
  },
  {
   "cell_type": "code",
   "execution_count": null,
   "metadata": {
    "scrolled": true
   },
   "outputs": [
    {
     "name": "stdout",
     "output_type": "stream",
     "text": [
      "2017-07-30 00:00:00\n",
      "1\n",
      "2\n",
      "DatetimeIndex(['2016-09-17', '2016-09-18', '2016-09-19', '2016-09-20',\n",
      "               '2016-09-21', '2016-09-22', '2016-09-23', '2016-09-24',\n",
      "               '2016-09-25', '2016-09-26',\n",
      "               ...\n",
      "               '2017-07-05', '2017-07-06', '2017-07-07', '2017-07-08',\n",
      "               '2017-07-09', '2017-07-10', '2017-07-11', '2017-07-12',\n",
      "               '2017-07-13', '2017-07-14'],\n",
      "              dtype='datetime64[ns]', length=301, freq='D')\n",
      "g_step: 100 loss std/mean: 0.014868911355733871 4.670734405517578\n",
      "| Loss std:   0.014869 |\n",
      "| Loss mean:   4.670734 |\n",
      "g_step: 200 loss std/mean: 0.01053551584482193 4.651306629180908\n",
      "| Loss std:   0.010536 |\n",
      "| Loss mean:   4.651307 |\n",
      "g_step: 300 loss std/mean: 0.011452400125563145 4.635562896728516\n",
      "| Loss std:   0.011452 |\n",
      "| Loss mean:   4.635563 |\n",
      "g_step: 400 loss std/mean: 0.009527635760605335 4.627514839172363\n",
      "| Loss std:   0.009528 |\n",
      "| Loss mean:   4.627515 |\n",
      "g_step: 500 loss std/mean: 0.008258952759206295 4.617305755615234\n",
      "| Loss std:   0.008259 |\n",
      "| Loss mean:   4.617306 |\n",
      "g_step: 600 loss std/mean: 0.007849994115531445 4.609768867492676\n",
      "| Loss std:   0.007850 |\n",
      "| Loss mean:   4.609769 |\n",
      "g_step: 700 loss std/mean: 0.0060290140099823475 4.6000871658325195\n",
      "| Loss std:   0.006029 |\n",
      "| Loss mean:   4.600087 |\n",
      "g_step: 800 loss std/mean: 0.006611964199692011 4.594954013824463\n",
      "| Loss std:   0.006612 |\n",
      "| Loss mean:   4.594954 |\n",
      "g_step: 900 loss std/mean: 0.003960445988923311 4.59068489074707\n",
      "| Loss std:   0.003960 |\n",
      "| Loss mean:   4.590685 |\n",
      "g_step: 1000 loss std/mean: 0.00419920589774847 4.581691741943359\n",
      "| Loss std:   0.004199 |\n",
      "| Loss mean:   4.581692 |\n",
      "\tValidation NWRMSLE  : 8.37040470707\n",
      "| Validation NWRMSLE:   8.370405 |\n",
      "\tValidation NWRMSLE_5: 8.15287878972\n",
      "| Validation NWRMSLE_5:   8.152879 |\n",
      "g_step: 1100 loss std/mean: 0.004454988520592451 4.578128814697266\n",
      "| Loss std:   0.004455 |\n",
      "| Loss mean:   4.578129 |\n",
      "g_step: 1200 loss std/mean: 0.004684424959123135 4.574737071990967\n",
      "| Loss std:   0.004684 |\n",
      "| Loss mean:   4.574737 |\n",
      "g_step: 1300 loss std/mean: 0.003566655796021223 4.570418357849121\n",
      "| Loss std:   0.003567 |\n",
      "| Loss mean:   4.570418 |\n",
      "g_step: 1400 loss std/mean: 0.004039681516587734 4.564774513244629\n",
      "| Loss std:   0.004040 |\n",
      "| Loss mean:   4.564775 |\n",
      "g_step: 1500 loss std/mean: 0.003532542148604989 4.563573837280273\n",
      "| Loss std:   0.003533 |\n",
      "| Loss mean:   4.563574 |\n",
      "g_step: 1600 loss std/mean: 0.002751330379396677 4.559911251068115\n",
      "| Loss std:   0.002751 |\n",
      "| Loss mean:   4.559911 |\n",
      "g_step: 1700 loss std/mean: 0.003748461604118347 4.556653022766113\n",
      "| Loss std:   0.003748 |\n",
      "| Loss mean:   4.556653 |\n",
      "g_step: 1800 loss std/mean: 0.003984448499977589 4.553506851196289\n",
      "| Loss std:   0.003984 |\n",
      "| Loss mean:   4.553507 |\n",
      "g_step: 1900 loss std/mean: 0.0030619835015386343 4.550655364990234\n",
      "| Loss std:   0.003062 |\n",
      "| Loss mean:   4.550655 |\n",
      "g_step: 2000 loss std/mean: 0.00344823207706213 4.547969818115234\n",
      "| Loss std:   0.003448 |\n",
      "| Loss mean:   4.547970 |\n",
      "\tValidation\r"
     ]
    }
   ],
   "source": [
    "%autoreload 2\n",
    "\n",
    "\n",
    "try:\n",
    "    hd_exp.end()\n",
    "except NameError:\n",
    "    pass\n",
    "\n",
    "\n",
    "history = 400\n",
    "time_to_predict = 16\n",
    "freq=1\n",
    "\n",
    "last_day_train = '2017-07-14'\n",
    "window=300\n",
    "epochs = 100\n",
    "validation_day = pd.to_datetime(last_day_train) + pd.Timedelta('{} days'.format(time_to_predict))\n",
    "batch_size = 2000\n",
    "sum_W = 3574368.0/16\n",
    "skip=0\n",
    "\n",
    "print(validation_day)\n",
    "\n",
    "batch_gen = get_random_train_test(\n",
    "    df_pivot,\n",
    "    oh_enc,\n",
    "    last_day_train,\n",
    "    window=window,\n",
    "    history=history,\n",
    "    size=batch_size,\n",
    "    predict_days=time_to_predict,\n",
    "    epochs=epochs,\n",
    "    skip=skip,\n",
    "    freq=freq\n",
    ")\n",
    "\n",
    "val_set = get_validation(df_pivot, validation_day, history=history,\n",
    "                        predict_days=time_to_predict, skip=skip)\n",
    "\n",
    "from model import RNNModel\n",
    "\n",
    "m = RNNModel(\n",
    "    history=history,\n",
    "    n_days_predict=time_to_predict,\n",
    "    n_classes=len(oh_enc.classes_),\n",
    "    clip_gradients=5.,\n",
    "    starter_learning_rate=0.0001,\n",
    "    #starter_learning_rate=0.0005,\n",
    "    n_layers_rnn=1,\n",
    "    rnn_size_encoder=200,\n",
    "    rnn_size_decoder=200,\n",
    "    bin_weights=bin_weights,\n",
    ")\n",
    "print(1)\n",
    "m.build_graph(batch_gen)\n",
    "\n",
    "print(2)\n",
    "hd_exp = hd.Experiment('RNN fav 4')\n",
    "\n",
    "\n",
    "tmp = m.train(\n",
    "    val_set, coef=unit_std, sum_W=sum_W,\n",
    "    oh_enc=oh_enc, sales_max=sales_max,\n",
    "    sales_min=sales_min, nbins=nbins,\n",
    "    report_every=100, validate_every=1000,\n",
    "    hd_exp=hd_exp\n",
    ")\n"
   ]
  },
  {
   "cell_type": "code",
   "execution_count": 165,
   "metadata": {},
   "outputs": [],
   "source": [
    "tmp1 = from_oh_to_values(predicted1, oh_enc, sales_max, sales_min, nbins).reshape(-1)"
   ]
  },
  {
   "cell_type": "code",
   "execution_count": 167,
   "metadata": {},
   "outputs": [
    {
     "data": {
      "text/plain": [
       "array([-0.71689729])"
      ]
     },
     "execution_count": 167,
     "metadata": {},
     "output_type": "execute_result"
    }
   ],
   "source": [
    "np.unique(tmp1)"
   ]
  },
  {
   "cell_type": "code",
   "execution_count": null,
   "metadata": {
    "collapsed": true
   },
   "outputs": [],
   "source": [
    "Validation NWRMSLE  : 1.34526972891\n",
    "Validation NWRMSLE_5: 1.36811241721"
   ]
  },
  {
   "cell_type": "code",
   "execution_count": 182,
   "metadata": {},
   "outputs": [
    {
     "data": {
      "text/plain": [
       "array([-0.71689729, -0.61693753, -0.51697777, -0.41701801, -0.31705825,\n",
       "       -0.21709849, -0.11713873, -0.01717898,  0.08278078,  0.18274054,\n",
       "        0.2827003 ,  0.38266006,  0.48261982,  0.58257958,  0.68253934,\n",
       "        0.7824991 ,  0.88245886,  0.98241862,  1.08237838,  1.18233814,\n",
       "        1.2822979 ,  1.38225766,  1.48221742,  1.58217718,  1.68213694,\n",
       "        1.7820967 ,  1.88205646,  1.98201622,  2.08197598,  2.18193574,\n",
       "        2.2818955 ,  2.38185526,  2.48181502,  2.58177478,  2.68173454,\n",
       "        2.7816943 ,  2.88165406,  2.98161382,  3.08157358,  3.18153334,\n",
       "        3.2814931 ,  3.38145286,  3.48141262,  3.58137237,  3.68133213,\n",
       "        3.78129189,  3.88125165,  3.98121141,  4.08117117,  4.18113093,\n",
       "        4.28109069,  4.38105045,  4.48101021,  4.58096997,  4.68092973,\n",
       "        4.78088949,  4.88084925,  4.98080901,  5.08076877,  5.18072853,\n",
       "        5.28068829,  5.38064805,  5.48060781,  5.58056757,  5.68052733,\n",
       "        5.78048709,  5.88044685,  5.98040661,  6.08036637,  6.18032613,\n",
       "        6.28028589,  6.38024565,  6.48020541,  6.58016517,  6.68012493,\n",
       "        6.78008469,  6.88004445,  6.98000421,  7.07996397,  7.17992372,\n",
       "        7.27988348,  7.37984324,  7.479803  ,  7.57976276,  7.67972252,\n",
       "        7.77968228,  7.87964204,  7.9796018 ,  8.07956156,  8.17952132,\n",
       "        8.27948108,  8.37944084,  8.4794006 ,  9.27907868])"
      ]
     },
     "execution_count": 182,
     "metadata": {},
     "output_type": "execute_result"
    }
   ],
   "source": []
  },
  {
   "cell_type": "code",
   "execution_count": 204,
   "metadata": {},
   "outputs": [
    {
     "data": {
      "text/plain": [
       "[<matplotlib.lines.Line2D at 0x2aafce464c18>]"
      ]
     },
     "execution_count": 204,
     "metadata": {},
     "output_type": "execute_result"
    },
    {
     "data": {
      "image/png": "[encoded data removed]",
      "text/plain": [
       "<matplotlib.figure.Figure at 0x2aafb21d8240>"
      ]
     },
     "metadata": {},
     "output_type": "display_data"
    }
   ],
   "source": [
    "plt.plot(tmp2[0]/np.exp(bins[-1:]))"
   ]
  },
  {
   "cell_type": "code",
   "execution_count": 173,
   "metadata": {},
   "outputs": [
    {
     "data": {
      "image/png": "[encoded data removed]",
      "text/plain": [
       "<matplotlib.figure.Figure at 0x2aafc1a8b438>"
      ]
     },
     "metadata": {},
     "output_type": "display_data"
    }
   ],
   "source": [
    "df['unit_sales_scaled'].hist(bins=50)\n",
    "plt.show()"
   ]
  },
  {
   "cell_type": "code",
   "execution_count": 187,
   "metadata": {},
   "outputs": [],
   "source": [
    "sales_min = df['unit_sales_scaled'].min()\n",
    "sales_max = df['unit_sales_scaled'].max()\n",
    "nbins = 100\n",
    "bins = np.arange(sales_min, sales_max, (sales_max - sales_min)/nbins)\n",
    "df['unit_sales_scaled_class'] = np.digitize(df['unit_sales_scaled'], bins)"
   ]
  },
  {
   "cell_type": "code",
   "execution_count": 184,
   "metadata": {},
   "outputs": [
    {
     "data": {
      "text/plain": [
       "(188,)"
      ]
     },
     "execution_count": 184,
     "metadata": {},
     "output_type": "execute_result"
    }
   ],
   "source": [
    "np.unique(tmp).shape"
   ]
  },
  {
   "cell_type": "code",
   "execution_count": 175,
   "metadata": {},
   "outputs": [
    {
     "name": "stdout",
     "output_type": "stream",
     "text": [
      "-0.716897293213 9.27907867893\n"
     ]
    }
   ],
   "source": [
    "print(df['unit_sales_scaled'].min(), df['unit_sales_scaled'].max())"
   ]
  },
  {
   "cell_type": "code",
   "execution_count": 31,
   "metadata": {
    "collapsed": true
   },
   "outputs": [],
   "source": [
    "sales = df[\n",
    "    (df['item_nbr'] == 1503844) &\n",
    "    (df['store_nbr'] == 44) \n",
    "    \n",
    "]['unit_sales_scaled']"
   ]
  },
  {
   "cell_type": "code",
   "execution_count": 34,
   "metadata": {
    "collapsed": true
   },
   "outputs": [],
   "source": [
    "import statsmodels.api as sm\n",
    "import matplotlib.pyplot as plt\n",
    "from scipy import stats"
   ]
  },
  {
   "cell_type": "code",
   "execution_count": 33,
   "metadata": {},
   "outputs": [
    {
     "data": {
      "image/png": "[encoded data removed]",
      "text/plain": [
       "<matplotlib.figure.Figure at 0x2aaf2878cdd8>"
      ]
     },
     "metadata": {},
     "output_type": "display_data"
    }
   ],
   "source": [
    "sm.graphics.tsa.plot_pacf(sales, lags=450)\n",
    "plt.show()"
   ]
  },
  {
   "cell_type": "code",
   "execution_count": 49,
   "metadata": {},
   "outputs": [
    {
     "data": {
      "image/png": "[encoded data removed]",
      "text/plain": [
       "<matplotlib.figure.Figure at 0x2aad0004ceb8>"
      ]
     },
     "metadata": {},
     "output_type": "display_data"
    }
   ],
   "source": [
    "sales2, tmp = stats.boxcox((sales+unit_mean))\n",
    "sm.graphics.tsa.plot_pacf(sales2, lags=450)\n",
    "plt.show()"
   ]
  },
  {
   "cell_type": "code",
   "execution_count": 160,
   "metadata": {},
   "outputs": [
    {
     "data": {
      "text/plain": [
       "Timedelta('106 days 00:00:00')"
      ]
     },
     "execution_count": 160,
     "metadata": {},
     "output_type": "execute_result"
    }
   ],
   "source": [
    "df['date'].max() - pd.Timedelta('{} days'.format(16+400+300)) - df['date'].min()"
   ]
  }
 ],
 "metadata": {
  "kernelspec": {
   "display_name": "Python 3",
   "language": "python",
   "name": "python3"
  },
  "language_info": {
   "codemirror_mode": {
    "name": "ipython",
    "version": 3
   },
   "file_extension": ".py",
   "mimetype": "text/x-python",
   "name": "python",
   "nbconvert_exporter": "python",
   "pygments_lexer": "ipython3",
   "version": "3.5.3"
  }
 },
 "nbformat": 4,
 "nbformat_minor": 2
}
